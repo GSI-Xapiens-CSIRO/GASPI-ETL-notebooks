{
 "cells": [
  {
   "cell_type": "markdown",
   "id": "0c64c054-64af-4886-89c8-2133b6d03c2d",
   "metadata": {},
   "source": [
    "# Introduction to Pandas: Loading Datasets (CSV and TSV Only)\n"
   ]
  },
  {
   "cell_type": "markdown",
   "id": "4b83c0c3-6c18-492a-832f-514d8297a448",
   "metadata": {},
   "source": [
    "## In this tutorial, we will learn how to:\n",
    "#### - Load datasets from CSV and TSV files\n",
    "#### - Explore the loaded data\n",
    "\n",
    "## Let's get started!"
   ]
  },
  {
   "cell_type": "markdown",
   "id": "dbd4bc22-9918-430b-9eea-942d37f5c4d1",
   "metadata": {},
   "source": [
    "### 1. Importing Pandas\n",
    "#### Pandas is the primary library we will use for data manipulation and analysis."
   ]
  },
  {
   "cell_type": "code",
   "execution_count": 2,
   "id": "5b67d0b5-80ae-4730-ac57-fbe2a136067c",
   "metadata": {},
   "outputs": [],
   "source": [
    "import pandas as pd"
   ]
  },
  {
   "cell_type": "markdown",
   "id": "83697771-0b69-415a-ae53-5e22b3f95de0",
   "metadata": {},
   "source": [
    "### 2. Loading a Dataset from a CSV File\n",
    "#### Let's load a sample dataset stored in a CSV file."
   ]
  },
  {
   "cell_type": "code",
   "execution_count": 3,
   "id": "863639d4-e944-42ae-aef1-9f568d27c96f",
   "metadata": {},
   "outputs": [
    {
     "name": "stdout",
     "output_type": "stream",
     "text": [
      "First 5 rows of the CSV dataset:\n"
     ]
    },
    {
     "data": {
      "text/html": [
       "<div>\n",
       "<style scoped>\n",
       "    .dataframe tbody tr th:only-of-type {\n",
       "        vertical-align: middle;\n",
       "    }\n",
       "\n",
       "    .dataframe tbody tr th {\n",
       "        vertical-align: top;\n",
       "    }\n",
       "\n",
       "    .dataframe thead th {\n",
       "        text-align: right;\n",
       "    }\n",
       "</style>\n",
       "<table border=\"1\" class=\"dataframe\">\n",
       "  <thead>\n",
       "    <tr style=\"text-align: right;\">\n",
       "      <th></th>\n",
       "      <th>Name</th>\n",
       "      <th>Age</th>\n",
       "      <th>City</th>\n",
       "      <th>Score</th>\n",
       "    </tr>\n",
       "  </thead>\n",
       "  <tbody>\n",
       "    <tr>\n",
       "      <th>0</th>\n",
       "      <td>Alice</td>\n",
       "      <td>25</td>\n",
       "      <td>New York</td>\n",
       "      <td>85</td>\n",
       "    </tr>\n",
       "    <tr>\n",
       "      <th>1</th>\n",
       "      <td>Bob</td>\n",
       "      <td>30</td>\n",
       "      <td>Los Angeles</td>\n",
       "      <td>90</td>\n",
       "    </tr>\n",
       "    <tr>\n",
       "      <th>2</th>\n",
       "      <td>Charlie</td>\n",
       "      <td>35</td>\n",
       "      <td>Chicago</td>\n",
       "      <td>88</td>\n",
       "    </tr>\n",
       "    <tr>\n",
       "      <th>3</th>\n",
       "      <td>David</td>\n",
       "      <td>40</td>\n",
       "      <td>Houston</td>\n",
       "      <td>76</td>\n",
       "    </tr>\n",
       "    <tr>\n",
       "      <th>4</th>\n",
       "      <td>Eva</td>\n",
       "      <td>28</td>\n",
       "      <td>Phoenix</td>\n",
       "      <td>95</td>\n",
       "    </tr>\n",
       "  </tbody>\n",
       "</table>\n",
       "</div>"
      ],
      "text/plain": [
       "      Name  Age         City  Score\n",
       "0    Alice   25     New York     85\n",
       "1      Bob   30  Los Angeles     90\n",
       "2  Charlie   35      Chicago     88\n",
       "3    David   40      Houston     76\n",
       "4      Eva   28      Phoenix     95"
      ]
     },
     "execution_count": 3,
     "metadata": {},
     "output_type": "execute_result"
    }
   ],
   "source": [
    "# Load the dataset\n",
    "df_csv = pd.read_csv(\"dummy_data.csv\")\n",
    "\n",
    "# Display the first 5 rows of the dataset\n",
    "print(\"First 5 rows of the CSV dataset:\")\n",
    "df_csv.head()"
   ]
  },
  {
   "cell_type": "markdown",
   "id": "f21d6cef-9029-40b2-ba67-fc0f5d8fe348",
   "metadata": {},
   "source": [
    "### 3. Loading a Dataset from a TSV File\n",
    "#### TSV files are similar to CSV files but use tabs instead of commas as delimiters."
   ]
  },
  {
   "cell_type": "code",
   "execution_count": 5,
   "id": "51051ac9-f049-4605-80ef-62b83d361c53",
   "metadata": {},
   "outputs": [
    {
     "name": "stdout",
     "output_type": "stream",
     "text": [
      "\n",
      "First 5 rows of the TSV dataset:\n"
     ]
    },
    {
     "data": {
      "text/html": [
       "<div>\n",
       "<style scoped>\n",
       "    .dataframe tbody tr th:only-of-type {\n",
       "        vertical-align: middle;\n",
       "    }\n",
       "\n",
       "    .dataframe tbody tr th {\n",
       "        vertical-align: top;\n",
       "    }\n",
       "\n",
       "    .dataframe thead th {\n",
       "        text-align: right;\n",
       "    }\n",
       "</style>\n",
       "<table border=\"1\" class=\"dataframe\">\n",
       "  <thead>\n",
       "    <tr style=\"text-align: right;\">\n",
       "      <th></th>\n",
       "      <th>Name</th>\n",
       "      <th>Age</th>\n",
       "      <th>City</th>\n",
       "      <th>Score</th>\n",
       "    </tr>\n",
       "  </thead>\n",
       "  <tbody>\n",
       "    <tr>\n",
       "      <th>0</th>\n",
       "      <td>Alice</td>\n",
       "      <td>25</td>\n",
       "      <td>New York</td>\n",
       "      <td>85</td>\n",
       "    </tr>\n",
       "    <tr>\n",
       "      <th>1</th>\n",
       "      <td>Bob</td>\n",
       "      <td>30</td>\n",
       "      <td>Los Angeles</td>\n",
       "      <td>90</td>\n",
       "    </tr>\n",
       "    <tr>\n",
       "      <th>2</th>\n",
       "      <td>Charlie</td>\n",
       "      <td>35</td>\n",
       "      <td>Chicago</td>\n",
       "      <td>88</td>\n",
       "    </tr>\n",
       "    <tr>\n",
       "      <th>3</th>\n",
       "      <td>David</td>\n",
       "      <td>40</td>\n",
       "      <td>Houston</td>\n",
       "      <td>76</td>\n",
       "    </tr>\n",
       "    <tr>\n",
       "      <th>4</th>\n",
       "      <td>Eva</td>\n",
       "      <td>28</td>\n",
       "      <td>Phoenix</td>\n",
       "      <td>95</td>\n",
       "    </tr>\n",
       "  </tbody>\n",
       "</table>\n",
       "</div>"
      ],
      "text/plain": [
       "      Name  Age         City  Score\n",
       "0    Alice   25     New York     85\n",
       "1      Bob   30  Los Angeles     90\n",
       "2  Charlie   35      Chicago     88\n",
       "3    David   40      Houston     76\n",
       "4      Eva   28      Phoenix     95"
      ]
     },
     "execution_count": 5,
     "metadata": {},
     "output_type": "execute_result"
    }
   ],
   "source": [
    "# Load the TSV dataset\n",
    "df_tsv = pd.read_csv(\"dummy_data.tsv\", sep=\"\\t\")\n",
    "\n",
    "# Display the first 5 rows of the dataset\n",
    "print(\"\\nFirst 5 rows of the TSV dataset:\")\n",
    "df_tsv.head()"
   ]
  },
  {
   "cell_type": "markdown",
   "id": "3fa997be-17be-4496-97d2-1e3662a02e12",
   "metadata": {},
   "source": [
    "### 4. Exploring the Data\n",
    "#### After loading a dataset, it is important to understand its structure."
   ]
  },
  {
   "cell_type": "code",
   "execution_count": 7,
   "id": "e2352d7f-d30e-435d-9805-5993396cfaee",
   "metadata": {},
   "outputs": [
    {
     "name": "stdout",
     "output_type": "stream",
     "text": [
      "\n",
      "Shape of the CSV dataset (rows, columns):\n"
     ]
    },
    {
     "data": {
      "text/plain": [
       "(5, 4)"
      ]
     },
     "execution_count": 7,
     "metadata": {},
     "output_type": "execute_result"
    }
   ],
   "source": [
    "# CSV Dataset: Get the shape of the dataset (number of rows and columns)\n",
    "print(\"\\nShape of the CSV dataset (rows, columns):\")\n",
    "df_csv.shape"
   ]
  },
  {
   "cell_type": "code",
   "execution_count": 8,
   "id": "cf21c60c-aa3b-45b3-aa36-483129a50524",
   "metadata": {},
   "outputs": [
    {
     "name": "stdout",
     "output_type": "stream",
     "text": [
      "\n",
      "TSV Dataset information:\n",
      "<class 'pandas.core.frame.DataFrame'>\n",
      "RangeIndex: 5 entries, 0 to 4\n",
      "Data columns (total 4 columns):\n",
      " #   Column  Non-Null Count  Dtype \n",
      "---  ------  --------------  ----- \n",
      " 0   Name    5 non-null      object\n",
      " 1   Age     5 non-null      int64 \n",
      " 2   City    5 non-null      object\n",
      " 3   Score   5 non-null      int64 \n",
      "dtypes: int64(2), object(2)\n",
      "memory usage: 288.0+ bytes\n"
     ]
    }
   ],
   "source": [
    "# TSV Dataset: Display basic information about the dataset\n",
    "print(\"\\nTSV Dataset information:\")\n",
    "df_tsv.info()"
   ]
  },
  {
   "cell_type": "code",
   "execution_count": null,
   "id": "377e3ba5-7f45-4c3f-b676-2f7f25df10f3",
   "metadata": {},
   "outputs": [],
   "source": []
  }
 ],
 "metadata": {
  "kernelspec": {
   "display_name": "Python 3 (ipykernel)",
   "language": "python",
   "name": "python3"
  },
  "language_info": {
   "codemirror_mode": {
    "name": "ipython",
    "version": 3
   },
   "file_extension": ".py",
   "mimetype": "text/x-python",
   "name": "python",
   "nbconvert_exporter": "python",
   "pygments_lexer": "ipython3",
   "version": "3.10.16"
  }
 },
 "nbformat": 4,
 "nbformat_minor": 5
}
