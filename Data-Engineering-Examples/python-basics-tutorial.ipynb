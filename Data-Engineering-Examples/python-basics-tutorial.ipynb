{
 "cells": [
  {
   "cell_type": "markdown",
   "id": "d00b2878-b594-42ba-bcc6-6588ef139703",
   "metadata": {},
   "source": [
    "# Python Basics: Variables, Loops, and Functions\n"
   ]
  },
  {
   "cell_type": "markdown",
   "id": "b521b4b4-3a57-4ad4-bfec-e331b680f58b",
   "metadata": {},
   "source": [
    "# Welcome! In this tutorial, we will learn about:\n",
    "### - Variables\n",
    "### - Loops\n",
    "### - Functions\n",
    "## Let's get started!\n",
    "\n",
    "### 1. Variables\n",
    "#### Variables are used to store data in Python."
   ]
  },
  {
   "cell_type": "code",
   "execution_count": 1,
   "id": "90d9a1c8-97dc-4564-9606-af61c1e163d7",
   "metadata": {},
   "outputs": [
    {
     "name": "stdout",
     "output_type": "stream",
     "text": [
      "Value of x: 5\n",
      "Value of y: 10\n",
      "Programming Language: Python\n"
     ]
    }
   ],
   "source": [
    "# Assigning values to variables\n",
    "x = 5\n",
    "y = 10\n",
    "name = \"Python\"\n",
    "\n",
    "# Print the values\n",
    "print(\"Value of x:\", x)\n",
    "print(\"Value of y:\", y)\n",
    "print(\"Programming Language:\", name)"
   ]
  },
  {
   "cell_type": "code",
   "execution_count": 2,
   "id": "6e7592ea-6669-44cb-b6c8-d7dfb175432e",
   "metadata": {},
   "outputs": [
    {
     "name": "stdout",
     "output_type": "stream",
     "text": [
      "Updated value of x: 7\n"
     ]
    }
   ],
   "source": [
    "# You can also change the value of a variable\n",
    "x = x + 2\n",
    "print(\"Updated value of x:\", x)"
   ]
  },
  {
   "cell_type": "markdown",
   "id": "37d39387-a0d9-4619-bbc6-da61efd8e60e",
   "metadata": {},
   "source": [
    "### 2. Loops\n",
    "#### Loops are used to repeat a block of code multiple times.\n",
    "\n",
    "#### `for` Loop\n",
    "#### A `for` loop is used to iterate over a sequence (like a list or a range)."
   ]
  },
  {
   "cell_type": "code",
   "execution_count": 3,
   "id": "a92f64ff-ccf4-4043-963a-52b2569b764f",
   "metadata": {},
   "outputs": [
    {
     "name": "stdout",
     "output_type": "stream",
     "text": [
      "Number: 1\n",
      "Number: 2\n",
      "Number: 3\n",
      "Number: 4\n",
      "Number: 5\n"
     ]
    }
   ],
   "source": [
    "# Example: Print numbers from 1 to 5\n",
    "for i in range(1, 6):\n",
    "    print(\"Number:\", i)"
   ]
  },
  {
   "cell_type": "markdown",
   "id": "cae4d66e-2d8f-43d5-af89-fe5a947598b7",
   "metadata": {},
   "source": [
    "### `while` Loop\n",
    "#### A `while` loop repeats as long as a condition is `True`."
   ]
  },
  {
   "cell_type": "code",
   "execution_count": 4,
   "id": "417bbc75-18d1-4e97-bbdb-fc63c1eb25c9",
   "metadata": {},
   "outputs": [
    {
     "name": "stdout",
     "output_type": "stream",
     "text": [
      "Countdown: 5\n",
      "Countdown: 4\n",
      "Countdown: 3\n",
      "Countdown: 2\n",
      "Countdown: 1\n"
     ]
    }
   ],
   "source": [
    "# Example: Count down from 5 to 1\n",
    "count = 5\n",
    "while count > 0:\n",
    "    print(\"Countdown:\", count)\n",
    "    count = count - 1\n",
    "\n"
   ]
  },
  {
   "cell_type": "markdown",
   "id": "849e19db-64b1-4d90-afab-8ef13d5e0ad9",
   "metadata": {},
   "source": [
    "### 3. Functions\n",
    "#### Functions are blocks of code designed to perform a specific task. They help make your code reusable."
   ]
  },
  {
   "cell_type": "code",
   "execution_count": 5,
   "id": "2fb59864-610e-42d6-899d-75befa9c6022",
   "metadata": {},
   "outputs": [],
   "source": [
    "# Example: A function to add two numbers\n",
    "def add_numbers(a, b):\n",
    "    return a + b"
   ]
  },
  {
   "cell_type": "code",
   "execution_count": 6,
   "id": "00a265a9-64af-410e-972f-42eff4d5dfb3",
   "metadata": {},
   "outputs": [
    {
     "name": "stdout",
     "output_type": "stream",
     "text": [
      "Sum of 3 and 7: 10\n"
     ]
    }
   ],
   "source": [
    "# Call the function\n",
    "result = add_numbers(3, 7)\n",
    "print(\"Sum of 3 and 7:\", result)"
   ]
  },
  {
   "cell_type": "code",
   "execution_count": 7,
   "id": "0479a43b-999a-4334-beb2-4b537aef58fb",
   "metadata": {},
   "outputs": [],
   "source": [
    "# Example: A function to check if a number is even or odd\n",
    "def is_even(number):\n",
    "    if number % 2 == 0:\n",
    "        return \"Even\"\n",
    "    else:\n",
    "        return \"Odd\""
   ]
  },
  {
   "cell_type": "code",
   "execution_count": 8,
   "id": "27a6add4-640c-4e37-b13c-455fd413ed5d",
   "metadata": {},
   "outputs": [
    {
     "name": "stdout",
     "output_type": "stream",
     "text": [
      "4 is: Even\n"
     ]
    }
   ],
   "source": [
    "# Call the function\n",
    "print(\"4 is:\", is_even(4))"
   ]
  },
  {
   "cell_type": "code",
   "execution_count": 9,
   "id": "6be6aaa7-6e25-4a9c-9f52-859b1a2cface",
   "metadata": {},
   "outputs": [
    {
     "name": "stdout",
     "output_type": "stream",
     "text": [
      "7 is: Odd\n"
     ]
    }
   ],
   "source": [
    "print(\"7 is:\", is_even(7))"
   ]
  },
  {
   "cell_type": "markdown",
   "id": "d76f2142-b7cf-4454-88a5-38fe722561bc",
   "metadata": {},
   "source": [
    "# Important!\n",
    "## Do not forget to use indentation (tab) when using `for`, `while` and declaring a function! Otherwise they won't work"
   ]
  },
  {
   "cell_type": "markdown",
   "id": "4ef0f47c-8902-43e7-a256-d4dbedf1b93d",
   "metadata": {},
   "source": [
    "## Task for You \n",
    "#### Try these exercises on your own:\n",
    "#### Have fun coding! "
   ]
  },
  {
   "cell_type": "markdown",
   "id": "76bd500b-6485-4695-883d-8670b2516e3b",
   "metadata": {},
   "source": [
    "#### 1. Create a variable to store your name and print a greeting (e.g., \"Hello, [Your Name]!\").\n"
   ]
  },
  {
   "cell_type": "code",
   "execution_count": 10,
   "id": "d003c725-5b56-4866-af65-42d4ece69c21",
   "metadata": {},
   "outputs": [
    {
     "name": "stdout",
     "output_type": "stream",
     "text": [
      "Hello, ___!\n"
     ]
    }
   ],
   "source": [
    "my_name = \"___\"\n",
    "print(\"Hello, \" + my_name + \"!\")"
   ]
  },
  {
   "cell_type": "markdown",
   "id": "7c2c64f1-c28d-46ca-b520-ccc75873a938",
   "metadata": {},
   "source": [
    "#### 2. Write a `for` loop to print all the numbers between 1 and 10.\n"
   ]
  },
  {
   "cell_type": "code",
   "execution_count": 11,
   "id": "3e19bb5a-8f9e-4fe5-a7a6-f4819aeadf7e",
   "metadata": {},
   "outputs": [
    {
     "name": "stdout",
     "output_type": "stream",
     "text": [
      "10\n",
      "11\n",
      "12\n",
      "13\n",
      "14\n",
      "15\n",
      "16\n",
      "17\n",
      "18\n",
      "19\n"
     ]
    }
   ],
   "source": [
    "low_threshold = 10\n",
    "high_threshold = 20\n",
    "\n",
    "for i in range(low_threshold, high_threshold):\n",
    "    print(i)"
   ]
  },
  {
   "cell_type": "markdown",
   "id": "1d667231-ee01-47a1-baf4-deb4b517d523",
   "metadata": {},
   "source": [
    "#### 3. Create a function that takes a number as input and returns its square.\n"
   ]
  },
  {
   "cell_type": "code",
   "execution_count": 12,
   "id": "f4702c37-223b-42d2-bdab-3a17eab2b26b",
   "metadata": {},
   "outputs": [],
   "source": [
    "def quadratic_function(number):\n",
    "    result = number + number\n",
    "    return result"
   ]
  },
  {
   "cell_type": "code",
   "execution_count": 13,
   "id": "998d34f8-5854-4438-ab25-d741ce0723eb",
   "metadata": {},
   "outputs": [
    {
     "data": {
      "text/plain": [
       "20"
      ]
     },
     "execution_count": 13,
     "metadata": {},
     "output_type": "execute_result"
    }
   ],
   "source": [
    "quadratic_function(10)"
   ]
  },
  {
   "cell_type": "code",
   "execution_count": null,
   "id": "d1734fdd-a39b-47c2-bc22-2003c60b592e",
   "metadata": {},
   "outputs": [],
   "source": []
  }
 ],
 "metadata": {
  "kernelspec": {
   "display_name": "Python 3 (ipykernel)",
   "language": "python",
   "name": "python3"
  },
  "language_info": {
   "codemirror_mode": {
    "name": "ipython",
    "version": 3
   },
   "file_extension": ".py",
   "mimetype": "text/x-python",
   "name": "python",
   "nbconvert_exporter": "python",
   "pygments_lexer": "ipython3",
   "version": "3.10.16"
  }
 },
 "nbformat": 4,
 "nbformat_minor": 5
}
