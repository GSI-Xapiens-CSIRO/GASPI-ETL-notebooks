{
 "cells": [
  {
   "cell_type": "markdown",
   "id": "89f9eea1-065e-46dc-be50-cd762ea7c683",
   "metadata": {},
   "source": [
    "## Navigating Jupyter Notebook"
   ]
  },
  {
   "cell_type": "markdown",
   "id": "fdb62a6d-b6fb-488f-b4c0-1eeb626f19df",
   "metadata": {},
   "source": [
    "## Welcome to Jupyter Notebook! This tutorial will help you:\n",
    "#### - Understand the interface of Jupyter Notebook\n",
    "#### - Learn how to create, edit, and run cells\n",
    "#### - Explore tips and shortcuts to use it efficiently\n",
    "\n",
    "## Let's get started! 🚀"
   ]
  },
  {
   "cell_type": "markdown",
   "id": "92b3d3c0-49ab-4bd4-ac76-63c51e005251",
   "metadata": {},
   "source": [
    "## 1. The Basics of Jupyter Notebook\n",
    " \n",
    "#### When you open a notebook, you see:\n",
    "#### - **Toolbar**: At the top, with buttons for common actions (Save, Run, etc.)\n",
    "#### - **Notebook Area**: Where you write and execute code.\n",
    "#### - **Cells**: The main building blocks where you write your code or text.\n",
    "\n",
    "## Types of Cells:\n",
    "#### - **Code Cells**: For writing and running Python code.\n",
    "#### - **Markdown Cells**: For writing formatted text (like this one!). \n",
    "\n",
    "## To change a cell's type:\n",
    "#### - Select the cell.\n",
    "#### - Use the dropdown menu in the toolbar to switch between \"Code\" and \"Markdown\".\n",
    "#### - Or, use the keyboard shortcut `Esc + M` for Markdown or `Esc + Y` for Code."
   ]
  },
  {
   "cell_type": "markdown",
   "id": "fb93e1ae-c640-43a6-bce0-3d580d7c6aef",
   "metadata": {},
   "source": [
    "## 2. Running a Cell\n",
    "#### To execute a cell, you can:\n",
    "#### - Press `Shift + Enter` (runs the cell and moves to the next one).\n",
    "#### - Press `Ctrl + Enter` (runs the cell and stays on it).\n",
    "#### - Click the \"Run\" button in the toolbar.\n",
    "\n",
    "#### Let's try running this code cell:"
   ]
  },
  {
   "cell_type": "code",
   "execution_count": 1,
   "id": "775b820b-e294-4754-b693-5043bda553b0",
   "metadata": {},
   "outputs": [
    {
     "name": "stdout",
     "output_type": "stream",
     "text": [
      "Hello, welcome to Jupyter Notebook!\n"
     ]
    }
   ],
   "source": [
    "# Click inside this cell and press Shift + Enter\n",
    "print(\"Hello, welcome to Jupyter Notebook!\")"
   ]
  },
  {
   "cell_type": "markdown",
   "id": "d1eec27d-008f-482d-b1fb-462b0a540e8c",
   "metadata": {},
   "source": [
    "#### Fun Fact : In Notebook cells, you can print/run an operation and prints its value without using Python's print method. Just put it on the last row of a cell!"
   ]
  },
  {
   "cell_type": "code",
   "execution_count": 2,
   "id": "467868d6-d903-4b91-a650-cf7ec3e791d2",
   "metadata": {},
   "outputs": [
    {
     "data": {
      "text/plain": [
       "10"
      ]
     },
     "execution_count": 2,
     "metadata": {},
     "output_type": "execute_result"
    }
   ],
   "source": [
    "# Run me!\n",
    "1+2+3+4"
   ]
  },
  {
   "cell_type": "markdown",
   "id": "8b0a9bb0-5dfc-4db5-b561-44d4c734ca3f",
   "metadata": {},
   "source": [
    "## 3. Adding New Cells\n",
    "#### To add a new cell:\n",
    "#### - Click the `+` button in the toolbar.\n",
    "#### - Or, press `Esc` followed by `B` (to add a cell below) or `Esc + A` (to add above).\n",
    " \n",
    "#### Task for You:\n",
    "#### - Add a new cell below this one and print your name using `print()`."
   ]
  },
  {
   "cell_type": "markdown",
   "id": "ec250b71-a25e-4c40-9e54-3b4990fe9899",
   "metadata": {},
   "source": [
    "## 4. Editing and Deleting Cells\n",
    "\n",
    "#### To edit a cell:\n",
    "#### - Click inside the cell to enter \"Edit Mode\" (you'll see a green border).\n",
    " \n",
    "#### To delete a cell:\n",
    "#### - Select the cell and click the scissor icon in the toolbar.\n",
    "#### - Or, press `Esc` followed by `D` twice (`Esc + D + D`)."
   ]
  },
  {
   "cell_type": "markdown",
   "id": "2fbe82cc-acd4-45fe-b562-54d5363e51cc",
   "metadata": {},
   "source": [
    "## 5. Restarting the Kernel\n",
    "\n",
    "#### The kernel is the \"engine\" that runs your code. If something goes wrong (e.g., your code crashes), you can restart it:\n",
    "#### - Go to the \"Kernel\" menu at the top and select \"Restart Kernel\".\n",
    "#### - Or, click the 🔄 icon in the toolbar.\n",
    "\n",
    "#### Let's Test This:\n",
    "#### - Run the code below.\n"
   ]
  },
  {
   "cell_type": "code",
   "execution_count": 3,
   "id": "f2498945-e6d3-4ba9-b3a3-b20ecd340e47",
   "metadata": {},
   "outputs": [],
   "source": [
    "counter = 0  # Define a counter"
   ]
  },
  {
   "cell_type": "code",
   "execution_count": 4,
   "id": "7bdf49e8-b792-4322-b753-9e8f16b77883",
   "metadata": {},
   "outputs": [
    {
     "name": "stdout",
     "output_type": "stream",
     "text": [
      "Counter: 1\n"
     ]
    }
   ],
   "source": [
    "#run this cell multiple times!\n",
    "counter += 1\n",
    "print(\"Counter:\", counter)"
   ]
  },
  {
   "cell_type": "markdown",
   "id": "6545ff83-f918-4350-91de-ba25952ebc93",
   "metadata": {},
   "source": [
    "#### - Restart the kernel and try running it again!. You should get an error."
   ]
  },
  {
   "cell_type": "markdown",
   "id": "d87e23d3-12b5-4f45-b769-f69162b11ea5",
   "metadata": {},
   "source": [
    "## 6. Tips and Shortcuts\n",
    " \n",
    "#### Here are some handy shortcuts to save time:\n",
    "#### - `Esc + H`: Show all keyboard shortcuts.\n",
    "#### - `Shift + Tab`: Show a quick documentation popup for a function.\n",
    "#### - `Ctrl + /`: Comment or uncomment selected lines in a code cell.\n",
    "#### - `Ctrl + S`: Save your notebook.\n",
    " \n",
    "#### Task for You:\n",
    "#### - Add a new cell and try commenting some lines using `Ctrl + /`."
   ]
  },
  {
   "cell_type": "markdown",
   "id": "1ce21a5b-29c5-4ade-995c-03bb451aa6a2",
   "metadata": {},
   "source": [
    "## 7. Saving and Exporting\n",
    " \n",
    "#### You can save your notebook as:\n",
    "#### - `.ipynb` (the default format, editable in Jupyter Notebook).\n",
    "#### - `.html` or `.pdf` (for sharing with others who don't use Jupyter).\n",
    " \n",
    "#### To export:\n",
    "#### - Go to \"File > Download As\" and select your preferred format."
   ]
  },
  {
   "cell_type": "code",
   "execution_count": null,
   "id": "6e78499e-5d1d-41cc-908a-15553a80c1b0",
   "metadata": {},
   "outputs": [],
   "source": []
  }
 ],
 "metadata": {
  "kernelspec": {
   "display_name": "Python 3 (ipykernel)",
   "language": "python",
   "name": "python3"
  },
  "language_info": {
   "codemirror_mode": {
    "name": "ipython",
    "version": 3
   },
   "file_extension": ".py",
   "mimetype": "text/x-python",
   "name": "python",
   "nbconvert_exporter": "python",
   "pygments_lexer": "ipython3",
   "version": "3.10.16"
  }
 },
 "nbformat": 4,
 "nbformat_minor": 5
}
