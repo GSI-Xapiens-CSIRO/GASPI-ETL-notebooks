{
 "cells": [
  {
   "cell_type": "markdown",
   "id": "e3b37fe0-0ff8-43d4-ab73-ec8dda447955",
   "metadata": {},
   "source": [
    "# Converting CSV's into TSV's"
   ]
  },
  {
   "cell_type": "markdown",
   "id": "a1e3a859-cb44-4a1f-8919-3119c03007b2",
   "metadata": {},
   "source": [
    "This notebook will give you reusable code for converting csv files inside a folder, into tsv files and store them into another folder. All you have to do is specify the input and output folder"
   ]
  },
  {
   "cell_type": "markdown",
   "id": "582ad251-6089-4509-b9e5-e1f5a0e6a158",
   "metadata": {},
   "source": [
    "## Step 1 : Define function to convert CSV into TSV"
   ]
  },
  {
   "cell_type": "code",
   "execution_count": 1,
   "id": "d99a558a-2575-477a-b665-b9dda778f472",
   "metadata": {},
   "outputs": [],
   "source": [
    "import pandas as pd\n",
    "import sys\n",
    "import os\n",
    "from pathlib import Path\n",
    "\n",
    "def csv_to_tsv(input_csv: str, output_dir: str) -> None:\n",
    "    \"\"\"\n",
    "    Convert a CSV file to a TSV file and save it in the specified output directory.\n",
    "    Args:\n",
    "        input_csv (str): Path to the input CSV file.\n",
    "        output_dir (str): Directory where the TSV file will be saved.\n",
    "    \"\"\"\n",
    "    if not input_csv.lower().endswith('.csv'):\n",
    "        print(f\"Skipping {input_csv}: Input file must have a .csv extension.\")\n",
    "        return\n",
    "        \n",
    "    # Get the filename without path and extension\n",
    "    base_name = os.path.basename(input_csv)\n",
    "    output_name = os.path.splitext(base_name)[0] + '.tsv'\n",
    "    output_path = os.path.join(output_dir, output_name)\n",
    "    \n",
    "    try:\n",
    "        # Read the CSV file\n",
    "        df = pd.read_csv(input_csv)\n",
    "        # Write to TSV file\n",
    "        df.to_csv(output_path, sep='\\t', index=False)\n",
    "        print(f\"Conversion successful! TSV file saved at: {output_path}\")\n",
    "    except Exception as e:\n",
    "        print(f\"Error converting {input_csv}: {e}\")"
   ]
  },
  {
   "cell_type": "markdown",
   "id": "29567093-9850-43df-85f9-68547560b776",
   "metadata": {},
   "source": [
    "## Step 2 : Create method to read all csv in a folder"
   ]
  },
  {
   "cell_type": "code",
   "execution_count": 2,
   "id": "679d479b-dab0-41ec-ab5f-b9570aeecbf5",
   "metadata": {},
   "outputs": [],
   "source": [
    "def process_directory(input_dir: str, output_dir: str) -> None:\n",
    "    \"\"\"\n",
    "    Process all CSV files in the input directory and convert them to TSV files.\n",
    "    Args:\n",
    "        input_dir (str): Directory containing CSV files\n",
    "        output_dir (str): Directory where TSV files will be saved\n",
    "    \"\"\"\n",
    "    # Create output directory if it doesn't exist\n",
    "    Path(output_dir).mkdir(parents=True, exist_ok=True)\n",
    "    \n",
    "    # Get all CSV files in the input directory\n",
    "    csv_files = [f for f in os.listdir(input_dir) if f.lower().endswith('.csv')]\n",
    "    \n",
    "    if not csv_files:\n",
    "        print(f\"No CSV files found in {input_dir}\")\n",
    "        return\n",
    "        \n",
    "    print(f\"Found {len(csv_files)} CSV files to process...\")\n",
    "    \n",
    "    # Process each CSV file\n",
    "    for csv_file in csv_files:\n",
    "        input_path = os.path.join(input_dir, csv_file)\n",
    "        csv_to_tsv(input_path, output_dir)\n"
   ]
  },
  {
   "cell_type": "markdown",
   "id": "65d3338e-81f8-4f26-b264-fa992b297531",
   "metadata": {},
   "source": [
    "## Step 3 : Declare input and output folder"
   ]
  },
  {
   "cell_type": "code",
   "execution_count": 3,
   "id": "a7cf1903-e249-4940-979d-345ee193cf45",
   "metadata": {},
   "outputs": [
    {
     "name": "stdout",
     "output_type": "stream",
     "text": [
      "Found 7 CSV files to process...\n",
      "Conversion successful! TSV file saved at: tsv-files/analyses.tsv\n",
      "Conversion successful! TSV file saved at: tsv-files/runs.tsv\n",
      "Conversion successful! TSV file saved at: tsv-files/biosamples.tsv\n",
      "Conversion successful! TSV file saved at: tsv-files/individuals.tsv\n",
      "Conversion successful! TSV file saved at: tsv-files/individual_diseases.tsv\n",
      "Conversion successful! TSV file saved at: tsv-files/data_dictionary.tsv\n",
      "Conversion successful! TSV file saved at: tsv-files/dataset.tsv\n"
     ]
    }
   ],
   "source": [
    "if __name__ == \"__main__\":\n",
    "    # Define input and output directories\n",
    "    input_directory = \"example-data\"\n",
    "    output_directory = \"tsv-files\"\n",
    "    \n",
    "    # Process all files\n",
    "    process_directory(input_directory, output_directory)"
   ]
  },
  {
   "cell_type": "code",
   "execution_count": null,
   "id": "36d18e3a-e41d-4740-b949-af188c6c2214",
   "metadata": {},
   "outputs": [],
   "source": []
  }
 ],
 "metadata": {
  "kernelspec": {
   "display_name": "Python 3 (ipykernel)",
   "language": "python",
   "name": "python3"
  },
  "language_info": {
   "codemirror_mode": {
    "name": "ipython",
    "version": 3
   },
   "file_extension": ".py",
   "mimetype": "text/x-python",
   "name": "python",
   "nbconvert_exporter": "python",
   "pygments_lexer": "ipython3",
   "version": "3.10.16"
  }
 },
 "nbformat": 4,
 "nbformat_minor": 5
}
