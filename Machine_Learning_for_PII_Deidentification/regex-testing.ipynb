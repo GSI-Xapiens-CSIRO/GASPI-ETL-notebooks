{
 "cells": [
  {
   "cell_type": "code",
   "execution_count": 1,
   "id": "aa2c0ae1-2a0d-43d1-aefd-7fd3782151cc",
   "metadata": {},
   "outputs": [],
   "source": [
    "import re"
   ]
  },
  {
   "cell_type": "code",
   "execution_count": 2,
   "id": "dba265d9-c1a5-4538-b11f-27c6077cbec5",
   "metadata": {},
   "outputs": [],
   "source": [
    "NIK_REGEX = re.compile(r\"^(1[1-9]|21|[37][1-6]|5[1-3]|6[1-5]|[89][12])\\d{2}\\d{2}([04][1-9]|[1256][0-9]|[37][01])(0[1-9]|1[0-2])\\d{2}\\d{4}$\")\n",
    "MOBILE_PHONE_REGEX = re.compile(r\"^(\\+62|62)?[\\s-]?0?8[1-9]{1}\\d{1}[\\s-]?\\d{4}[\\s-]?\\d{2,5}$\")"
   ]
  },
  {
   "cell_type": "code",
   "execution_count": 3,
   "id": "0e190da2-a153-4c6c-bf32-ca3be8ce2e1d",
   "metadata": {},
   "outputs": [],
   "source": [
    "PLATE_NUMBER_REGEX = re.compile(r\"^[A-Z]{1,2}\\s{0,1}\\d{0,4}\\s{0,1}[A-Z]{0,3}$\")"
   ]
  },
  {
   "cell_type": "code",
   "execution_count": 4,
   "id": "ab9612f4-849e-486b-9502-51c25339dd77",
   "metadata": {},
   "outputs": [],
   "source": [
    "HOME_PHONE_REGEX = re.compile(r\"^(\\+62|62)?[\\s-]?0?([2-7]|9)\\d(\\d)?[\\s-]?[2-9](\\d){6,7}\")"
   ]
  },
  {
   "cell_type": "code",
   "execution_count": 5,
   "id": "53dbaf11-6d92-4732-ba84-29881b566131",
   "metadata": {},
   "outputs": [],
   "source": [
    "# Example variables\n",
    "nik = \"1530105808258884\"\n",
    "phone = \"+62-861-06103981\"\n",
    "home = \"021-4792421\"\n",
    "plate_number = \"F 1523 XYZ\""
   ]
  },
  {
   "cell_type": "code",
   "execution_count": 6,
   "id": "7a67f15a-c299-4001-bec8-847c8fe9f2a2",
   "metadata": {},
   "outputs": [
    {
     "name": "stdout",
     "output_type": "stream",
     "text": [
      "Valid NIK\n"
     ]
    }
   ],
   "source": [
    "# Check NIK\n",
    "if NIK_REGEX.match(nik):\n",
    "    print(\"Valid NIK\")\n",
    "else:\n",
    "    print(\"Invalid NIK\")"
   ]
  },
  {
   "cell_type": "code",
   "execution_count": 7,
   "id": "e3ac1ea1-7f7d-4c69-9696-8e36585ea9dc",
   "metadata": {},
   "outputs": [
    {
     "name": "stdout",
     "output_type": "stream",
     "text": [
      "Valid Phone Number\n"
     ]
    }
   ],
   "source": [
    "# Check Phone Number\n",
    "if MOBILE_PHONE_REGEX.match(phone):\n",
    "    print(\"Valid Phone Number\")\n",
    "else:\n",
    "    print(\"Invalid Phone Number\")"
   ]
  },
  {
   "cell_type": "code",
   "execution_count": 8,
   "id": "b041d433-5261-4360-90f8-ef2bdee3fd9e",
   "metadata": {},
   "outputs": [
    {
     "name": "stdout",
     "output_type": "stream",
     "text": [
      "Valid Home Number\n"
     ]
    }
   ],
   "source": [
    "# Check Phone Number\n",
    "if HOME_PHONE_REGEX.match(home):\n",
    "    print(\"Valid Home Number\")\n",
    "else:\n",
    "    print(\"Invalid Home Number\")"
   ]
  },
  {
   "cell_type": "code",
   "execution_count": 9,
   "id": "c19a49d1-a222-4753-8b43-7fcca158d64d",
   "metadata": {},
   "outputs": [
    {
     "name": "stdout",
     "output_type": "stream",
     "text": [
      "Valid Plate Number\n"
     ]
    }
   ],
   "source": [
    "# Check Phone Number\n",
    "if PLATE_NUMBER_REGEX.match(plate_number):\n",
    "    print(\"Valid Plate Number\")\n",
    "else:\n",
    "    print(\"Invalid Plate Number\")"
   ]
  },
  {
   "cell_type": "code",
   "execution_count": null,
   "id": "18e3d2dc-fa4c-4cbc-9fc6-8e04f81d83d8",
   "metadata": {},
   "outputs": [],
   "source": []
  },
  {
   "cell_type": "code",
   "execution_count": null,
   "id": "1b7e3cad-6747-4f09-8941-39602df5a7d3",
   "metadata": {},
   "outputs": [],
   "source": []
  }
 ],
 "metadata": {
  "kernelspec": {
   "display_name": "Python 3 (ipykernel)",
   "language": "python",
   "name": "python3"
  },
  "language_info": {
   "codemirror_mode": {
    "name": "ipython",
    "version": 3
   },
   "file_extension": ".py",
   "mimetype": "text/x-python",
   "name": "python",
   "nbconvert_exporter": "python",
   "pygments_lexer": "ipython3",
   "version": "3.11.11"
  }
 },
 "nbformat": 4,
 "nbformat_minor": 5
}
