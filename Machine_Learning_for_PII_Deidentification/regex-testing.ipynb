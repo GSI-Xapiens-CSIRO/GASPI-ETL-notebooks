{
 "cells": [
  {
   "cell_type": "markdown",
   "id": "40f21f89-965b-4468-ae0e-c5e057371abd",
   "metadata": {},
   "source": [
    "# Introduction to Regular Expressions (Regex)\n",
    "\n",
    "Regular Expressions (Regex) are powerful tools used for pattern matching in text.\n",
    "They are commonly used for validation, searching, and formatting operations.\n",
    "In Python, we use the `re` module to work with regex.\n",
    "\n",
    "In this tutorial, we will cover regex for:\n",
    "- Indonesian NIK (National Identification Number)\n",
    "- Mobile and Home Phone Numbers\n",
    "- Vehicle Plate Numbers"
   ]
  },
  {
   "cell_type": "code",
   "execution_count": 1,
   "id": "aa2c0ae1-2a0d-43d1-aefd-7fd3782151cc",
   "metadata": {},
   "outputs": [],
   "source": [
    "import re"
   ]
  },
  {
   "cell_type": "markdown",
   "id": "423d8148-e2b8-4d65-9f8a-6de563acf0fa",
   "metadata": {},
   "source": [
    "## NIK (Indonesian National Identification Number) Validation\n",
    "\n",
    "The Indonesian NIK consists of 16 digits, with specific patterns related to regions.\n",
    "The regex pattern ensures the correct structure and prevents invalid formats.\n",
    "\n",
    "### Explanation:\n",
    "- `^(1[1-9]|21|[37][1-6]|5[1-3]|6[1-5]|[89][12])` → The first two digits represent the province code.\n",
    "  - Example: `11` for Aceh, `31` for Jakarta.\n",
    "- `\\d{2}\\d{2}` → The next four digits represent the city and district code.\n",
    "- `([04][1-9]|[1256][0-9]|[37][01])` → The date of birth (adjusted for females by adding 40).\n",
    "- `(0[1-9]|1[0-2])` → The birth month (01 to 12).\n",
    "- `\\d{2}` → The birth year (last two digits of the year).\n",
    "- `\\d{4}$` → A unique identifier number."
   ]
  },
  {
   "cell_type": "code",
   "execution_count": 2,
   "id": "dba265d9-c1a5-4538-b11f-27c6077cbec5",
   "metadata": {},
   "outputs": [],
   "source": [
    "NIK_REGEX = re.compile(r\"^(1[1-9]|21|[37][1-6]|5[1-3]|6[1-5]|[89][12])\\d{2}\\d{2}([04][1-9]|[1256][0-9]|[37][01])(0[1-9]|1[0-2])\\d{2}\\d{4}$\")\n"
   ]
  },
  {
   "cell_type": "markdown",
   "id": "556c27b2-1341-4b58-88f2-6ad576103f75",
   "metadata": {},
   "source": [
    "## Mobile Phone Number Validation\n",
    "\n",
    "Indonesian mobile numbers start with `+62` or `62`, followed by an 8 to 13-digit number.\n",
    "\n",
    "### Explanation:\n",
    "- `^(\\+62|62)?` → The country code is optional (`+62` or `62`).\n",
    "- `[\\s-]?` → Allows an optional space or dash separator.\n",
    "- `08[1-9]{1}\\d{1}` → Ensures the number starts with `08` followed by two digits representing the provider code.\n",
    "- `[\\s-]?\\d{4}[\\s-]?\\d{2,5}$` → The remaining digits, allowing spaces or dashes."
   ]
  },
  {
   "cell_type": "code",
   "execution_count": 3,
   "id": "020aafee-b6c2-4618-b1b1-72decad1e8fa",
   "metadata": {},
   "outputs": [],
   "source": [
    "MOBILE_PHONE_REGEX = re.compile(r\"^(\\+62|62)?[\\s-]?0?8[1-9]{1}\\d{1}[\\s-]?\\d{4}[\\s-]?\\d{2,5}$\")"
   ]
  },
  {
   "cell_type": "markdown",
   "id": "36aa0cb6-0b6b-4219-8ee0-89c746649e44",
   "metadata": {},
   "source": [
    "## Home Phone Number Validation\n",
    "\n",
    "Landline numbers in Indonesia usually start with `021` or `62`.\n",
    "\n",
    "### Explanation:\n",
    "- `^(\\+62|62)?` → The country code is optional.\n",
    "- `[\\s-]?0?([2-7]|9)\\d(\\d)?` → Ensures valid area codes (Jakarta: `021`, Surabaya: `031`, etc.).\n",
    "- `[\\s-]?[2-9](\\d){6,7}` → The rest of the phone number (7-8 digits, avoiding leading `0` in local numbers)."
   ]
  },
  {
   "cell_type": "code",
   "execution_count": 4,
   "id": "ab9612f4-849e-486b-9502-51c25339dd77",
   "metadata": {},
   "outputs": [],
   "source": [
    "HOME_PHONE_REGEX = re.compile(r\"^(\\+62|62)?[\\s-]?0?([2-7]|9)\\d(\\d)?[\\s-]?[2-9](\\d){6,7}\")"
   ]
  },
  {
   "cell_type": "markdown",
   "id": "ba15d8cd-c42d-4902-94df-56612ec7e778",
   "metadata": {},
   "source": [
    "## Vehicle Plate Number Validation\n",
    "\n",
    "A basic regex pattern to validate Indonesian vehicle plate numbers.\n",
    "\n",
    "### Explanation:\n",
    "- `^[A-Z]{1,2}` → The first 1-2 letters represent the region.\n",
    "- `\\s{0,1}` → Allows an optional space.\n",
    "- `\\d{0,4}` → The middle section consists of up to 4 digits.\n",
    "- `\\s{0,1}` → Another optional space.\n",
    "- `[A-Z]{0,3}$` → The suffix consists of up to 3 optional letters."
   ]
  },
  {
   "cell_type": "code",
   "execution_count": 5,
   "id": "0e190da2-a153-4c6c-bf32-ca3be8ce2e1d",
   "metadata": {},
   "outputs": [],
   "source": [
    "PLATE_NUMBER_REGEX = re.compile(r\"^[A-Z]{1,2}\\s{0,1}\\d{0,4}\\s{0,1}[A-Z]{0,3}$\")"
   ]
  },
  {
   "cell_type": "markdown",
   "id": "eea00449-1f00-497e-93c5-6b5907d42eae",
   "metadata": {},
   "source": [
    "## Example Variables\n",
    "\n",
    "Let's test our regex patterns with some sample data."
   ]
  },
  {
   "cell_type": "code",
   "execution_count": 6,
   "id": "53dbaf11-6d92-4732-ba84-29881b566131",
   "metadata": {},
   "outputs": [],
   "source": [
    "# Example variables\n",
    "nik = \"1530105808258884\"\n",
    "phone = \"+62-861-06103981\"\n",
    "home = \"021-4792421\"\n",
    "plate_number = \"F 1523 XYZ\""
   ]
  },
  {
   "cell_type": "markdown",
   "id": "7c8353a6-9713-4c23-b2e7-448f9b6b1fc4",
   "metadata": {},
   "source": [
    "## Checking NIK\n",
    "\n",
    "We use `re.match()` to validate whether the input follows the NIK format."
   ]
  },
  {
   "cell_type": "code",
   "execution_count": 7,
   "id": "7a67f15a-c299-4001-bec8-847c8fe9f2a2",
   "metadata": {},
   "outputs": [
    {
     "name": "stdout",
     "output_type": "stream",
     "text": [
      "Valid NIK\n"
     ]
    }
   ],
   "source": [
    "# Check NIK\n",
    "if NIK_REGEX.match(nik):\n",
    "    print(\"Valid NIK\")\n",
    "else:\n",
    "    print(\"Invalid NIK\")"
   ]
  },
  {
   "cell_type": "markdown",
   "id": "e657263c-d1ac-43e3-9caa-9aba35226cb8",
   "metadata": {},
   "source": [
    "## Checking Phone & Plate Numbers\n",
    "\n",
    "Similarly, we check if the given number matches the home/mobile phone format or a licence plate number format."
   ]
  },
  {
   "cell_type": "code",
   "execution_count": 8,
   "id": "e3ac1ea1-7f7d-4c69-9696-8e36585ea9dc",
   "metadata": {},
   "outputs": [
    {
     "name": "stdout",
     "output_type": "stream",
     "text": [
      "Valid Phone Number\n"
     ]
    }
   ],
   "source": [
    "# Check Phone Number\n",
    "if MOBILE_PHONE_REGEX.match(phone):\n",
    "    print(\"Valid Phone Number\")\n",
    "else:\n",
    "    print(\"Invalid Phone Number\")"
   ]
  },
  {
   "cell_type": "code",
   "execution_count": 9,
   "id": "b041d433-5261-4360-90f8-ef2bdee3fd9e",
   "metadata": {},
   "outputs": [
    {
     "name": "stdout",
     "output_type": "stream",
     "text": [
      "Valid Home Number\n"
     ]
    }
   ],
   "source": [
    "# Check Phone Number\n",
    "if HOME_PHONE_REGEX.match(home):\n",
    "    print(\"Valid Home Number\")\n",
    "else:\n",
    "    print(\"Invalid Home Number\")"
   ]
  },
  {
   "cell_type": "code",
   "execution_count": 10,
   "id": "c19a49d1-a222-4753-8b43-7fcca158d64d",
   "metadata": {},
   "outputs": [
    {
     "name": "stdout",
     "output_type": "stream",
     "text": [
      "Valid Plate Number\n"
     ]
    }
   ],
   "source": [
    "# Check Phone Number\n",
    "if PLATE_NUMBER_REGEX.match(plate_number):\n",
    "    print(\"Valid Plate Number\")\n",
    "else:\n",
    "    print(\"Invalid Plate Number\")"
   ]
  },
  {
   "cell_type": "code",
   "execution_count": null,
   "id": "18e3d2dc-fa4c-4cbc-9fc6-8e04f81d83d8",
   "metadata": {},
   "outputs": [],
   "source": []
  },
  {
   "cell_type": "code",
   "execution_count": null,
   "id": "1b7e3cad-6747-4f09-8941-39602df5a7d3",
   "metadata": {},
   "outputs": [],
   "source": []
  }
 ],
 "metadata": {
  "kernelspec": {
   "display_name": "Python 3 (ipykernel)",
   "language": "python",
   "name": "python3"
  },
  "language_info": {
   "codemirror_mode": {
    "name": "ipython",
    "version": 3
   },
   "file_extension": ".py",
   "mimetype": "text/x-python",
   "name": "python",
   "nbconvert_exporter": "python",
   "pygments_lexer": "ipython3",
   "version": "3.11.11"
  }
 },
 "nbformat": 4,
 "nbformat_minor": 5
}
