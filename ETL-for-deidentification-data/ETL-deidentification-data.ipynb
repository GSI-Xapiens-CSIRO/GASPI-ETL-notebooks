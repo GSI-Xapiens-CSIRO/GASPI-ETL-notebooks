{
 "cells": [
  {
   "cell_type": "markdown",
   "id": "5d764bcc",
   "metadata": {},
   "source": [
    "# Deidentification Data Source\n",
    "This notebook shows how you can deidentify data source, before uploading the data into S3 or ingesting the data into Dataportal's Beacon instance.\n",
    "# Upload Data Source\n",
    "Upload the data source into ETL-for-deidentification-data folder.\n",
    "\n",
    "You can see the example PII.json file on ETL-for-deidentification-data.\n",
    "# Deidentify Data Source\n",
    "Replace the value of filename variable in the script with the name of the file you have uploaded and run the script.\n"
   ]
  },
  {
   "cell_type": "code",
   "execution_count": 2,
   "id": "c1a648f8",
   "metadata": {},
   "outputs": [
    {
     "name": "stdout",
     "output_type": "stream",
     "text": [
      "Successfully deidentify PII.json\n",
      "Please Check deidentified_PII.json\n"
     ]
    }
   ],
   "source": [
    "from deidentification.deidentify import deidentify\n",
    "\n",
    "filename = \"PII.json\"\n",
    "deidentify(filename)"
   ]
  }
 ],
 "metadata": {
  "kernelspec": {
   "display_name": "conda_python3",
   "language": "python",
   "name": "conda_python3"
  },
  "language_info": {
   "codemirror_mode": {
    "name": "ipython",
    "version": 3
   },
   "file_extension": ".py",
   "mimetype": "text/x-python",
   "name": "python",
   "nbconvert_exporter": "python",
   "pygments_lexer": "ipython3",
   "version": "3.10.16"
  }
 },
 "nbformat": 4,
 "nbformat_minor": 5
}
