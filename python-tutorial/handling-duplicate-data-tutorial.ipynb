{
 "cells": [
  {
   "cell_type": "markdown",
   "id": "1d9c0e6d-08da-4993-bfe2-f5317df57ca1",
   "metadata": {},
   "source": [
    "# Handling Duplicate Data in Pandas - Tutorial"
   ]
  },
  {
   "cell_type": "markdown",
   "id": "db443167-5aa5-4760-8e90-dc731349b27d",
   "metadata": {},
   "source": [
    "### Scenario 1: Identifying Duplicate Rows\n",
    "#### To identify duplicate rows in a DataFrame, use the `duplicated()` method."
   ]
  },
  {
   "cell_type": "code",
   "execution_count": 7,
   "id": "dccdcd64-af28-4790-a021-ec7b7e4ba77c",
   "metadata": {},
   "outputs": [
    {
     "name": "stdout",
     "output_type": "stream",
     "text": [
      "Our Dataframe:\n",
      "    Name  Age         City\n",
      "0  Alice   25     New York\n",
      "1    Bob   30  Los Angeles\n",
      "2  Alice   25     New York\n",
      "3  David   40      Chicago\n",
      "4    Bob   30  Los Angeles\n",
      "\n",
      "Duplicate Rows:\n",
      "0    False\n",
      "1    False\n",
      "2     True\n",
      "3    False\n",
      "4     True\n",
      "dtype: bool\n",
      "\n",
      "Duplicate Entries:\n",
      "    Name  Age         City\n",
      "2  Alice   25     New York\n",
      "4    Bob   30  Los Angeles\n"
     ]
    }
   ],
   "source": [
    "import pandas as pd\n",
    "\n",
    "# Sample DataFrame\n",
    "data = {\n",
    "    'Name': ['Alice', 'Bob', 'Alice', 'David', 'Bob'],\n",
    "    'Age': [25, 30, 25, 40, 30],\n",
    "    'City': ['New York', 'Los Angeles', 'New York', 'Chicago', 'Los Angeles']\n",
    "}\n",
    "df = pd.DataFrame(data)\n",
    "print(\"Our Dataframe:\")\n",
    "print(df)\n",
    "\n",
    "# Identify duplicate rows\n",
    "duplicates = df.duplicated()\n",
    "print(\"\\nDuplicate Rows:\")\n",
    "print(duplicates)\n",
    "\n",
    "# Display rows that are duplicates\n",
    "print(\"\\nDuplicate Entries:\")\n",
    "print(df[df.duplicated()])\n",
    "\n",
    "\n"
   ]
  },
  {
   "cell_type": "markdown",
   "id": "5ceb5694-681a-49c7-96f2-22559b5181c8",
   "metadata": {},
   "source": [
    "### Scenario 2: Removing Duplicate Rows\n",
    "#### To remove duplicate rows, use the `drop_duplicates()` method."
   ]
  },
  {
   "cell_type": "code",
   "execution_count": 8,
   "id": "c1efedc5-191b-4b4b-82ce-44849488e9a4",
   "metadata": {},
   "outputs": [
    {
     "name": "stdout",
     "output_type": "stream",
     "text": [
      "DataFrame After Removing Duplicates:\n",
      "    Name  Age         City\n",
      "0  Alice   25     New York\n",
      "1    Bob   30  Los Angeles\n",
      "3  David   40      Chicago\n",
      "\n",
      "DataFrame Keeping the Last Duplicate:\n",
      "    Name  Age         City\n",
      "2  Alice   25     New York\n",
      "3  David   40      Chicago\n",
      "4    Bob   30  Los Angeles\n"
     ]
    }
   ],
   "source": [
    "# Remove duplicate rows (default keeps the first occurrence)\n",
    "deduped_df = df.drop_duplicates()\n",
    "print(\"DataFrame After Removing Duplicates:\")\n",
    "print(deduped_df)\n",
    "\n",
    "# Keep the last occurrence of duplicates\n",
    "deduped_df_last = df.drop_duplicates(keep='last')\n",
    "print(\"\\nDataFrame Keeping the Last Duplicate:\")\n",
    "print(deduped_df_last)\n",
    "\n"
   ]
  },
  {
   "cell_type": "markdown",
   "id": "46c29bee-dd69-4c2f-8f59-4233207e96de",
   "metadata": {},
   "source": [
    "### Scenario 3: Handling Duplicates Based on Specific Columns\n",
    "#### To check for duplicates based on specific columns, use the `subset` parameter in `duplicated()` or `drop_duplicates()`."
   ]
  },
  {
   "cell_type": "code",
   "execution_count": 9,
   "id": "0da9c795-e6e7-4bcf-a29c-3d3dbdb2f438",
   "metadata": {},
   "outputs": [
    {
     "name": "stdout",
     "output_type": "stream",
     "text": [
      "Duplicates Based on 'Name':\n",
      "0    False\n",
      "1    False\n",
      "2     True\n",
      "3    False\n",
      "4     True\n",
      "dtype: bool\n",
      "\n",
      "DataFrame After Removing Duplicates Based on 'Name':\n",
      "    Name  Age         City\n",
      "0  Alice   25     New York\n",
      "1    Bob   30  Los Angeles\n",
      "3  David   40      Chicago\n"
     ]
    }
   ],
   "source": [
    "# Check for duplicates based on the 'Name' column\n",
    "duplicates_name = df.duplicated(subset=['Name'])\n",
    "print(\"Duplicates Based on 'Name':\")\n",
    "print(duplicates_name)\n",
    "\n",
    "# Remove duplicates based on the 'Name' column\n",
    "deduped_name_df = df.drop_duplicates(subset=['Name'])\n",
    "print(\"\\nDataFrame After Removing Duplicates Based on 'Name':\")\n",
    "print(deduped_name_df)\n"
   ]
  },
  {
   "cell_type": "markdown",
   "id": "3cd83bb5-1c95-4fae-a7be-29b22bfac08b",
   "metadata": {},
   "source": [
    "### Scenario 4: Marking Duplicate Rows Instead of Dropping Them\n",
    "#### Sometimes, instead of dropping duplicates, you may want to mark them for further analysis."
   ]
  },
  {
   "cell_type": "code",
   "execution_count": 11,
   "id": "cdec77b8-cd4e-4750-8123-d9e2e8dc567f",
   "metadata": {},
   "outputs": [
    {
     "name": "stdout",
     "output_type": "stream",
     "text": [
      "DataFrame with Duplicate Indicator:\n",
      "    Name  Age         City  Is_Duplicate\n",
      "0  Alice   25     New York         False\n",
      "1    Bob   30  Los Angeles         False\n",
      "2  Alice   25     New York          True\n",
      "3  David   40      Chicago         False\n",
      "4    Bob   30  Los Angeles          True\n"
     ]
    }
   ],
   "source": [
    "# Create a column to indicate if a row is duplicate\n",
    "df['Is_Duplicate'] = df.duplicated()\n",
    "print(\"DataFrame with Duplicate Indicator:\")\n",
    "print(df)\n",
    "\n"
   ]
  },
  {
   "cell_type": "markdown",
   "id": "78e65e22-b75b-4f2a-88eb-db27e846acc5",
   "metadata": {},
   "source": [
    "### Scenario 5: Keeping Duplicates for a Specific Task\n",
    "#### If you want to keep only the rows that are duplicates for a specific task, you can filter them."
   ]
  },
  {
   "cell_type": "code",
   "execution_count": 13,
   "id": "85665200-9457-4765-8c34-ae8055480e67",
   "metadata": {},
   "outputs": [
    {
     "data": {
      "text/html": [
       "<div>\n",
       "<style scoped>\n",
       "    .dataframe tbody tr th:only-of-type {\n",
       "        vertical-align: middle;\n",
       "    }\n",
       "\n",
       "    .dataframe tbody tr th {\n",
       "        vertical-align: top;\n",
       "    }\n",
       "\n",
       "    .dataframe thead th {\n",
       "        text-align: right;\n",
       "    }\n",
       "</style>\n",
       "<table border=\"1\" class=\"dataframe\">\n",
       "  <thead>\n",
       "    <tr style=\"text-align: right;\">\n",
       "      <th></th>\n",
       "      <th>Name</th>\n",
       "      <th>Age</th>\n",
       "      <th>City</th>\n",
       "      <th>Is_Duplicate</th>\n",
       "    </tr>\n",
       "  </thead>\n",
       "  <tbody>\n",
       "    <tr>\n",
       "      <th>0</th>\n",
       "      <td>Alice</td>\n",
       "      <td>25</td>\n",
       "      <td>New York</td>\n",
       "      <td>False</td>\n",
       "    </tr>\n",
       "    <tr>\n",
       "      <th>1</th>\n",
       "      <td>Bob</td>\n",
       "      <td>30</td>\n",
       "      <td>Los Angeles</td>\n",
       "      <td>False</td>\n",
       "    </tr>\n",
       "    <tr>\n",
       "      <th>2</th>\n",
       "      <td>Alice</td>\n",
       "      <td>25</td>\n",
       "      <td>New York</td>\n",
       "      <td>True</td>\n",
       "    </tr>\n",
       "    <tr>\n",
       "      <th>3</th>\n",
       "      <td>David</td>\n",
       "      <td>40</td>\n",
       "      <td>Chicago</td>\n",
       "      <td>False</td>\n",
       "    </tr>\n",
       "    <tr>\n",
       "      <th>4</th>\n",
       "      <td>Bob</td>\n",
       "      <td>30</td>\n",
       "      <td>Los Angeles</td>\n",
       "      <td>True</td>\n",
       "    </tr>\n",
       "  </tbody>\n",
       "</table>\n",
       "</div>"
      ],
      "text/plain": [
       "    Name  Age         City  Is_Duplicate\n",
       "0  Alice   25     New York         False\n",
       "1    Bob   30  Los Angeles         False\n",
       "2  Alice   25     New York          True\n",
       "3  David   40      Chicago         False\n",
       "4    Bob   30  Los Angeles          True"
      ]
     },
     "execution_count": 13,
     "metadata": {},
     "output_type": "execute_result"
    }
   ],
   "source": [
    "df"
   ]
  },
  {
   "cell_type": "code",
   "execution_count": 19,
   "id": "6ae12200-3d5f-4032-b630-3b06be45ee1a",
   "metadata": {},
   "outputs": [
    {
     "name": "stdout",
     "output_type": "stream",
     "text": [
      "Only Duplicate Rows:\n",
      "    Name  Age         City  Is_Duplicate\n",
      "2  Alice   25     New York          True\n",
      "4    Bob   30  Los Angeles          True\n"
     ]
    }
   ],
   "source": [
    "# Keep only duplicate rows\n",
    "duplicates_only = df[df['Is_Duplicate'] == True]\n",
    "print(\"Only Duplicate Rows:\")\n",
    "print(duplicates_only)\n",
    "\n",
    "\n"
   ]
  },
  {
   "cell_type": "markdown",
   "id": "357cdee0-2747-41a5-9c29-bb58f9920b0d",
   "metadata": {},
   "source": [
    "### Notes:\n",
    "- Always check the shape of your DataFrame before and after removing duplicates to ensure the expected rows were affected.\n",
    "- `duplicated()` returns a boolean Series, while `drop_duplicates()` modifies the DataFrame.\n",
    "- Use `inplace=True` in `drop_duplicates()` if you want to modify the original DataFrame directly.\n",
    "\n",
    "This tutorial provides a practical approach to handling duplicate data with concise examples suitable for Jupyter Notebook. Copy these cells into your notebook and test them out!\n"
   ]
  },
  {
   "cell_type": "code",
   "execution_count": null,
   "id": "944d5e2b-9a28-400a-9a3e-ab74b38162ac",
   "metadata": {},
   "outputs": [],
   "source": []
  }
 ],
 "metadata": {
  "kernelspec": {
   "display_name": "Python 3 (ipykernel)",
   "language": "python",
   "name": "python3"
  },
  "language_info": {
   "codemirror_mode": {
    "name": "ipython",
    "version": 3
   },
   "file_extension": ".py",
   "mimetype": "text/x-python",
   "name": "python",
   "nbconvert_exporter": "python",
   "pygments_lexer": "ipython3",
   "version": "3.10.16"
  }
 },
 "nbformat": 4,
 "nbformat_minor": 5
}
